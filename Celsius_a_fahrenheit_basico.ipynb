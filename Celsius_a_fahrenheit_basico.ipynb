{
  "nbformat": 4,
  "nbformat_minor": 0,
  "metadata": {
    "colab": {
      "name": "Celsius_a_fahrenheit_basico.ipynb",
      "provenance": [],
      "collapsed_sections": [],
      "authorship_tag": "ABX9TyP9HSW1RAlMPQPjSuJsZghU",
      "include_colab_link": true
    },
    "kernelspec": {
      "name": "python3",
      "display_name": "Python 3"
    },
    "language_info": {
      "name": "python"
    }
  },
  "cells": [
    {
      "cell_type": "markdown",
      "metadata": {
        "id": "view-in-github",
        "colab_type": "text"
      },
      "source": [
        "<a href=\"https://colab.research.google.com/github/vicentew13/vicentew13/blob/Projects/Celsius_a_fahrenheit_basico.ipynb\" target=\"_parent\"><img src=\"https://colab.research.google.com/assets/colab-badge.svg\" alt=\"Open In Colab\"/></a>"
      ]
    },
    {
      "cell_type": "code",
      "metadata": {
        "id": "XnfwqKIJbtdV"
      },
      "source": [
        "#Import packages\n",
        "import numpy as np\n",
        "import tensorflow as tf"
      ],
      "execution_count": null,
      "outputs": []
    },
    {
      "cell_type": "code",
      "metadata": {
        "id": "30eIv6hTb5y9"
      },
      "source": [
        "#array de grados celsius y fahrenheit\n",
        "\n",
        "celsius = np.array([-40, -10, 0, 8, 15, 22, 38], dtype=float)\n",
        "fahrenheit = np.array([-40, 14, 32, 46, 59, 72, 100], dtype=float)"
      ],
      "execution_count": null,
      "outputs": []
    },
    {
      "cell_type": "code",
      "metadata": {
        "id": "rJYNb06RdEF8"
      },
      "source": [
        "#diseño de capas usando el framework keras\n",
        "\n",
        "capa = tf.keras.layers.Dense(units=1, input_shape=[1])#las capas densas tienen conexiones de cada neurona a todas las neuronas de la siguinte\n",
        "modelo =  tf.keras.Sequential([capa])"
      ],
      "execution_count": null,
      "outputs": []
    },
    {
      "cell_type": "code",
      "metadata": {
        "id": "7m_ezcsmeU5U"
      },
      "source": [
        "#propiedades para compilar y realizar el aprendizaje\n",
        "\n",
        "modelo.compile(\n",
        "    optimizer=tf.keras.optimizers.Adam(0.1), #el modelo y la taza en la que el aprendizaje se ajusta para obtener mejores resultados\n",
        "    loss = 'mean_squared_error' #perdide error cuadratico medio los pocos pero grandes errores son mas importantes que muchos pequeños\n",
        "    )"
      ],
      "execution_count": null,
      "outputs": []
    },
    {
      "cell_type": "code",
      "metadata": {
        "id": "M-FWCYRDfWM8"
      },
      "source": [
        "#entrenamiento del algoritmo\n",
        "\n",
        "historial = modelo.fit(celsius, fahrenheit, epochs= 1000, verbose=False)"
      ],
      "execution_count": null,
      "outputs": []
    },
    {
      "cell_type": "code",
      "metadata": {
        "colab": {
          "base_uri": "https://localhost:8080/",
          "height": 282
        },
        "id": "bpTo-nYFgGBh",
        "outputId": "db92cf01-8a08-40d0-ab92-47a40d30a73e"
      },
      "source": [
        "#visualizamos la funcion de perdida para ver como se perfecciono el algoritmo\n",
        "import matplotlib.pyplot as plt\n",
        "\n",
        "plt.plot(historial.history['loss'])\n"
      ],
      "execution_count": null,
      "outputs": [
        {
          "output_type": "execute_result",
          "data": {
            "text/plain": [
              "[<matplotlib.lines.Line2D at 0x7f2009620850>]"
            ]
          },
          "metadata": {},
          "execution_count": 8
        },
        {
          "output_type": "display_data",
          "data": {
            "image/png": "[encoded data removed]",
            "text/plain": [
              "<Figure size 432x288 with 1 Axes>"
            ]
          },
          "metadata": {
            "needs_background": "light"
          }
        }
      ]
    },
    {
      "cell_type": "code",
      "metadata": {
        "colab": {
          "base_uri": "https://localhost:8080/"
        },
        "id": "VqtToFJCghMh",
        "outputId": "b1327aea-759f-49b8-c6a8-d67df54344af"
      },
      "source": [
        "#realizamos una prediccion\n",
        "\n",
        "xr = 100.0\n",
        "resultado = modelo.predict([xr])\n",
        "\n",
        "print(f'El resultado fue {resultado} pero deberia haber sido ', xr * 1.8 + 32)"
      ],
      "execution_count": null,
      "outputs": [
        {
          "output_type": "stream",
          "text": [
            "El resultado fue [[211.74281]] pero deberia haber sido  212.0\n"
          ],
          "name": "stdout"
        }
      ]
    },
    {
      "cell_type": "code",
      "metadata": {
        "colab": {
          "base_uri": "https://localhost:8080/"
        },
        "id": "qk4NuNUHhU2M",
        "outputId": "642cb206-7ec8-4c7d-f7fd-b16b078f5919"
      },
      "source": [
        "#Ahora debido a que es un modelos simple analizamos cuales fueron los valores de los sesgos y pesos\n",
        "\n",
        "print(capa.get_weights())"
      ],
      "execution_count": null,
      "outputs": [
        {
          "output_type": "stream",
          "text": [
            "[array([[1.7982235]], dtype=float32), array([31.920456], dtype=float32)]\n"
          ],
          "name": "stdout"
        }
      ]
    },
    {
      "cell_type": "code",
      "metadata": {
        "id": "o4UviGrrhvIN"
      },
      "source": [
        "#Agregamos dos capas con tres neuronas para ver si mejora el sistema\n",
        "\n",
        "oculta1 = tf.keras.layers.Dense(units=3, input_shape=[1])\n",
        "oculta2 = tf.keras.layers.Dense(units=3)\n",
        "salida = tf.keras.layers.Dense(units=1)\n",
        "modelo2 =  tf.keras.Sequential([oculta1,oculta2,salida])\n"
      ],
      "execution_count": null,
      "outputs": []
    },
    {
      "cell_type": "code",
      "metadata": {
        "id": "l1y1UrvNi7Fh"
      },
      "source": [
        "modelo2.compile(\n",
        "    optimizer=tf.keras.optimizers.Adam(0.1), \n",
        "    loss = 'mean_squared_error' \n",
        "    )"
      ],
      "execution_count": null,
      "outputs": []
    },
    {
      "cell_type": "code",
      "metadata": {
        "id": "h4REC9jfjFLA"
      },
      "source": [
        "historial2 = modelo2.fit(celsius, fahrenheit, epochs= 1000, verbose=False)"
      ],
      "execution_count": null,
      "outputs": []
    },
    {
      "cell_type": "code",
      "metadata": {
        "colab": {
          "base_uri": "https://localhost:8080/",
          "height": 282
        },
        "id": "1lRB_j5MjMMw",
        "outputId": "6c6846e3-cf42-4ae1-dca4-5b85aa686ee4"
      },
      "source": [
        "plt.plot(historial2.history['loss'])"
      ],
      "execution_count": null,
      "outputs": [
        {
          "output_type": "execute_result",
          "data": {
            "text/plain": [
              "[<matplotlib.lines.Line2D at 0x7f20074e6fd0>]"
            ]
          },
          "metadata": {},
          "execution_count": 14
        },
        {
          "output_type": "display_data",
          "data": {
            "image/png": "[encoded data removed]",
            "text/plain": [
              "<Figure size 432x288 with 1 Axes>"
            ]
          },
          "metadata": {
            "needs_background": "light"
          }
        }
      ]
    },
    {
      "cell_type": "code",
      "metadata": {
        "colab": {
          "base_uri": "https://localhost:8080/"
        },
        "id": "ZNFxxXI5jStF",
        "outputId": "b5ce130c-06e1-4c6a-f10b-13d8f6bc14d8"
      },
      "source": [
        "xr = 100.0\n",
        "resultado = modelo2.predict([xr])\n",
        "\n",
        "print(f'El resultado fue {resultado} pero deberia haber sido ', xr * 1.8 + 32)"
      ],
      "execution_count": null,
      "outputs": [
        {
          "output_type": "stream",
          "text": [
            "El resultado fue [[211.74739]] pero deberia haber sido  212.0\n"
          ],
          "name": "stdout"
        }
      ]
    },
    {
      "cell_type": "code",
      "metadata": {
        "colab": {
          "base_uri": "https://localhost:8080/"
        },
        "id": "YshP0e2LjdLx",
        "outputId": "40def165-753c-442f-e020-51dd1f41e593"
      },
      "source": [
        "print(oculta1.get_weights())\n",
        "print(oculta2.get_weights())\n",
        "print(salida.get_weights())"
      ],
      "execution_count": null,
      "outputs": [
        {
          "output_type": "stream",
          "text": [
            "[array([[-0.35676903,  0.36861396,  0.44508287]], dtype=float32), array([-3.690211 ,  3.622866 ,  3.6563647], dtype=float32)]\n",
            "[array([[-0.4635782 , -1.2211798 ,  0.24619557],\n",
            "       [-0.21599638,  0.25233188, -0.7161792 ],\n",
            "       [-0.8561554 ,  0.83348036, -0.04866119]], dtype=float32), array([-3.6116116,  3.6945963, -3.8337295], dtype=float32)]\n",
            "[array([[-1.430762  ],\n",
            "       [ 1.2848673 ],\n",
            "       [-0.58774954]], dtype=float32), array([3.590042], dtype=float32)]\n"
          ],
          "name": "stdout"
        }
      ]
    },
    {
      "cell_type": "code",
      "metadata": {
        "id": "tUrUOmrHjtiP"
      },
      "source": [
        ""
      ],
      "execution_count": null,
      "outputs": []
    }
  ]
}