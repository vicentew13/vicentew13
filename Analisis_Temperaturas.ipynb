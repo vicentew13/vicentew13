{
 "cells": [
  {
   "cell_type": "code",
   "execution_count": 1,
   "metadata": {},
   "outputs": [],
   "source": [
    "import numpy as np\n",
    "import pandas as pd\n",
    "import matplotlib.pyplot as plt\n",
    "import datetime"
   ]
  },
  {
   "cell_type": "code",
   "execution_count": 14,
   "metadata": {},
   "outputs": [
    {
     "data": {
      "text/plain": [
       "<bound method NDFrame.head of                    FECHA EMYRT-T_B_SECO EMYRT-T_B_H_NATURAL EMYRT-T_GLOBO  \\\n",
       "0    2020-03-22 02:21:00        22.4021             17.5312       22.6838   \n",
       "1    2020-03-22 09:37:48        26.5535             19.7303       27.3533   \n",
       "2    2020-03-22 16:54:36        29.7421             21.4343       30.4846   \n",
       "3    2020-03-23 00:11:24        25.1621             18.7889       25.4406   \n",
       "4    2020-03-23 07:28:12        25.4768             18.4524       26.0416   \n",
       "...                  ...            ...                 ...           ...   \n",
       "1180 2021-03-15 18:52:48        31.4404              23.239       31.9683   \n",
       "1181 2021-03-16 02:09:36        26.3898             21.3068       26.7635   \n",
       "1182 2021-03-16 09:26:24        24.6393              21.344       25.0357   \n",
       "1183 2021-03-16 16:43:12        25.4009             22.7029       25.6757   \n",
       "1184 2021-03-17 00:00:00        25.1088             21.9203       25.1273   \n",
       "\n",
       "     EMYRT-T_AMBIENTE EMYRT-T_TECHO EMYRT-HUMEDAD_RELATIVA  \n",
       "0             19.1117       18.8538                62.0888  \n",
       "1             23.5029       32.7524                55.2303  \n",
       "2             26.9129       33.5938                48.3033  \n",
       "3             22.5228       21.6731                54.8633  \n",
       "4              22.827       28.2567                51.9968  \n",
       "...               ...           ...                    ...  \n",
       "1180          27.1079       29.0204                50.3242  \n",
       "1181          23.3611       22.5811                63.6663  \n",
       "1182          20.4918       20.6297                74.8421  \n",
       "1183           20.706       21.4196                79.4894  \n",
       "1184          19.7628       19.4997                 75.656  \n",
       "\n",
       "[1185 rows x 7 columns]>"
      ]
     },
     "execution_count": 14,
     "metadata": {},
     "output_type": "execute_result"
    }
   ],
   "source": [
    "data = pd.read_excel(r'C:/Users/Vicentito/Desktop/Data Analytics/22_03_20_a_17_03_21.xlsx')\n",
    "\n",
    "data.head"
   ]
  },
  {
   "cell_type": "code",
   "execution_count": 3,
   "metadata": {},
   "outputs": [],
   "source": [
    "ndindex = data[data['EMYRT-T_B_H_NATURAL'] == 'N/D'].index\n",
    "secoclean = data.drop(ndindex, inplace= False)\n",
    "\n",
    "ndindex2 = secoclean[secoclean['EMYRT-HUMEDAD_RELATIVA'] == 'N/D'].index\n",
    "fdata = secoclean.drop(ndindex2, inplace = False)"
   ]
  },
  {
   "cell_type": "code",
   "execution_count": 4,
   "metadata": {},
   "outputs": [
    {
     "data": {
      "text/plain": [
       "FECHA                     datetime64[ns]\n",
       "EMYRT-T_B_SECO                   float64\n",
       "EMYRT-T_B_H_NATURAL              float64\n",
       "EMYRT-T_GLOBO                    float64\n",
       "EMYRT-T_AMBIENTE                 float64\n",
       "EMYRT-T_TECHO                    float64\n",
       "EMYRT-HUMEDAD_RELATIVA           float64\n",
       "dtype: object"
      ]
     },
     "execution_count": 4,
     "metadata": {},
     "output_type": "execute_result"
    }
   ],
   "source": [
    "fdata['FECHA'] = fdata['FECHA'].astype('datetime64')\n",
    "fdata['EMYRT-T_B_SECO'] = fdata['EMYRT-T_B_SECO'].astype('float64') #Convirtio bulbo seco a flotante\n",
    "fdata['EMYRT-T_B_H_NATURAL'] = fdata['EMYRT-T_B_H_NATURAL'].astype('float64')\n",
    "fdata['EMYRT-T_GLOBO'] = fdata['EMYRT-T_GLOBO'].astype('float64')\n",
    "fdata['EMYRT-T_AMBIENTE'] = fdata['EMYRT-T_AMBIENTE'].astype('float64')\n",
    "fdata['EMYRT-T_TECHO'] = fdata['EMYRT-T_TECHO'].astype('float64')\n",
    "fdata['EMYRT-HUMEDAD_RELATIVA'] = fdata['EMYRT-HUMEDAD_RELATIVA'].astype('float64')\n",
    "\n",
    "fdata.dtypes\n"
   ]
  },
  {
   "cell_type": "code",
   "execution_count": 5,
   "metadata": {},
   "outputs": [
    {
     "data": {
      "text/plain": [
       "Index(['TBS', 'TBH', 'TG', 'TA', 'T_TECHO', 'HR'], dtype='object')"
      ]
     },
     "execution_count": 5,
     "metadata": {},
     "output_type": "execute_result"
    }
   ],
   "source": [
    "fdata.rename(columns = {'EMYRT-T_B_SECO':'TBS', 'EMYRT-T_B_H_NATURAL':'TBH', 'EMYRT-T_GLOBO':'TG',\n",
    "                        'EMYRT-T_AMBIENTE':'TA', 'EMYRT-T_TECHO':'T_TECHO', 'EMYRT-HUMEDAD_RELATIVA':'HR'},\n",
    "             inplace=True)\n",
    "fdata.set_index('FECHA',inplace = True)\n",
    "fdata.columns"
   ]
  },
  {
   "cell_type": "code",
   "execution_count": 6,
   "metadata": {},
   "outputs": [],
   "source": [
    "fdata['TGBH'] = 0.7*fdata['TBH']+0.3*fdata['TG']"
   ]
  },
  {
   "cell_type": "code",
   "execution_count": 7,
   "metadata": {},
   "outputs": [
    {
     "name": "stderr",
     "output_type": "stream",
     "text": [
      "<ipython-input-7-9167ae34c25d>:6: UserWarning: FixedFormatter should only be used together with FixedLocator\n",
      "  panel.set_xticklabels(fdatand.columns)\n"
     ]
    },
    {
     "data": {
      "text/plain": [
       "Text(0.5, 1.0, 'Boxplot de los datos')"
      ]
     },
     "execution_count": 7,
     "metadata": {},
     "output_type": "execute_result"
    },
    {
     "data": {
      "image/png": "[encoded data removed]",
      "text/plain": [
       "<Figure size 432x288 with 1 Axes>"
      ]
     },
     "metadata": {
      "needs_background": "light"
     },
     "output_type": "display_data"
    }
   ],
   "source": [
    "#sacar columna date\n",
    "fdatand = fdata.drop(columns = ['HR'])\n",
    "\n",
    "fig, panel = plt.subplots()\n",
    "\n",
    "panel.set_xticklabels(fdatand.columns)\n",
    "panel.boxplot(fdatand, patch_artist = True)\n",
    "\n",
    "plt.title('Boxplot de los datos')"
   ]
  },
  {
   "cell_type": "code",
   "execution_count": 13,
   "metadata": {},
   "outputs": [
    {
     "data": {
      "text/plain": [
       "[<matplotlib.lines.Line2D at 0x56d09d0>]"
      ]
     },
     "execution_count": 13,
     "metadata": {},
     "output_type": "execute_result"
    },
    {
     "data": {
      "image/png": "[encoded data removed]",
      "text/plain": [
       "<Figure size 432x288 with 1 Axes>"
      ]
     },
     "metadata": {
      "needs_background": "light"
     },
     "output_type": "display_data"
    }
   ],
   "source": [
    "fdata_group_hours = fdata.groupby(fdata.index.hour).mean()\n",
    "\n",
    "#Linea de las temperaturas\n",
    "\n",
    "fig, pan_1 = plt.subplots(1, 1)\n",
    "\n",
    "x = fdata_group_hours.index\n",
    "\n",
    "pan_1.set_ylim(15, 28)\n",
    "pan_1.set_xlim(0, 23)\n",
    "\n",
    "pan_1.plot(x, fdata_group_hours['TBS'], color = 'b', label='TBS')\n",
    "pan_1.plot(x, fdata_group_hours['TBH'], color = 'g', label='TBH')\n",
    "pan_1.plot(x, fdata_group_hours['TG'], color = 'y', label='TG')\n"
   ]
  },
  {
   "cell_type": "code",
   "execution_count": 9,
   "metadata": {},
   "outputs": [
    {
     "name": "stderr",
     "output_type": "stream",
     "text": [
      "<ipython-input-9-ce9457432cee>:7: UserWarning: FixedFormatter should only be used together with FixedLocator\n",
      "  panel.set_xticklabels(m30_rango.columns)\n"
     ]
    },
    {
     "data": {
      "text/plain": [
       "Text(0.5, 1.0, 'Boxplot de TGBH > 29 °C')"
      ]
     },
     "execution_count": 9,
     "metadata": {},
     "output_type": "execute_result"
    },
    {
     "data": {
      "image/png": "[encoded data removed]",
      "text/plain": [
       "<Figure size 432x288 with 1 Axes>"
      ]
     },
     "metadata": {
      "needs_background": "light"
     },
     "output_type": "display_data"
    }
   ],
   "source": [
    "m30_rango = fdata.loc[fdata['TGBH'] >= 29]\n",
    "\n",
    "m30_rango = m30_rango.drop(columns = ['HR'])\n",
    "\n",
    "fig, panel = plt.subplots()\n",
    "\n",
    "panel.set_xticklabels(m30_rango.columns)\n",
    "panel.boxplot(m30_rango, patch_artist = True)\n",
    "\n",
    "plt.title('Boxplot de TGBH > 29 °C')"
   ]
  },
  {
   "cell_type": "code",
   "execution_count": 10,
   "metadata": {},
   "outputs": [
    {
     "data": {
      "text/plain": [
       "<BarContainer object of 7 artists>"
      ]
     },
     "execution_count": 10,
     "metadata": {},
     "output_type": "execute_result"
    },
    {
     "data": {
      "image/png": "[encoded data removed]",
      "text/plain": [
       "<Figure size 432x288 with 1 Axes>"
      ]
     },
     "metadata": {
      "needs_background": "light"
     },
     "output_type": "display_data"
    }
   ],
   "source": [
    "plt.bar([0,1,2,3,4,5,6], m30_rango['TGBH'].groupby(m30_rango.index.weekday).count())"
   ]
  },
  {
   "cell_type": "code",
   "execution_count": 11,
   "metadata": {},
   "outputs": [
    {
     "ename": "TypeError",
     "evalue": "scatter() missing 2 required positional arguments: 'x' and 'y'",
     "output_type": "error",
     "traceback": [
      "\u001b[1;31m---------------------------------------------------------------------------\u001b[0m",
      "\u001b[1;31mTypeError\u001b[0m                                 Traceback (most recent call last)",
      "\u001b[1;32m<ipython-input-11-e60fd23b6296>\u001b[0m in \u001b[0;36m<module>\u001b[1;34m\u001b[0m\n\u001b[0;32m      1\u001b[0m \u001b[1;31m#Valor optimo vs Valor Real\u001b[0m\u001b[1;33m\u001b[0m\u001b[1;33m\u001b[0m\u001b[1;33m\u001b[0m\u001b[0m\n\u001b[1;32m----> 2\u001b[1;33m \u001b[0mplt\u001b[0m\u001b[1;33m.\u001b[0m\u001b[0mscatter\u001b[0m\u001b[1;33m(\u001b[0m\u001b[1;33m)\u001b[0m\u001b[1;33m\u001b[0m\u001b[1;33m\u001b[0m\u001b[0m\n\u001b[0m",
      "\u001b[1;31mTypeError\u001b[0m: scatter() missing 2 required positional arguments: 'x' and 'y'"
     ]
    }
   ],
   "source": [
    "#Valor optimo vs Valor Real\n",
    "plt.scatter()"
   ]
  },
  {
   "cell_type": "code",
   "execution_count": null,
   "metadata": {},
   "outputs": [],
   "source": [
    "plt.scatter(fdata.index.hour, fdata['TGBH'])\n",
    "plt.plot(fdata.index.hour, np.full((1029, 1), 30), color ='r')"
   ]
  },
  {
   "cell_type": "code",
   "execution_count": 15,
   "metadata": {},
   "outputs": [
    {
     "data": {
      "text/html": [
       "<div>\n",
       "<style scoped>\n",
       "    .dataframe tbody tr th:only-of-type {\n",
       "        vertical-align: middle;\n",
       "    }\n",
       "\n",
       "    .dataframe tbody tr th {\n",
       "        vertical-align: top;\n",
       "    }\n",
       "\n",
       "    .dataframe thead th {\n",
       "        text-align: right;\n",
       "    }\n",
       "</style>\n",
       "<table border=\"1\" class=\"dataframe\">\n",
       "  <thead>\n",
       "    <tr style=\"text-align: right;\">\n",
       "      <th></th>\n",
       "      <th>TBS</th>\n",
       "      <th>TBH</th>\n",
       "      <th>TG</th>\n",
       "      <th>TA</th>\n",
       "      <th>T_TECHO</th>\n",
       "      <th>HR</th>\n",
       "      <th>TGBH</th>\n",
       "    </tr>\n",
       "    <tr>\n",
       "      <th>FECHA</th>\n",
       "      <th></th>\n",
       "      <th></th>\n",
       "      <th></th>\n",
       "      <th></th>\n",
       "      <th></th>\n",
       "      <th></th>\n",
       "      <th></th>\n",
       "    </tr>\n",
       "  </thead>\n",
       "  <tbody>\n",
       "    <tr>\n",
       "      <th>2020-03-24 19:52:12</th>\n",
       "      <td>31.283498</td>\n",
       "      <td>29.285349</td>\n",
       "      <td>31.721121</td>\n",
       "      <td>29.010373</td>\n",
       "      <td>32.209386</td>\n",
       "      <td>88.174213</td>\n",
       "      <td>30.016081</td>\n",
       "    </tr>\n",
       "    <tr>\n",
       "      <th>2020-03-25 10:25:48</th>\n",
       "      <td>30.142319</td>\n",
       "      <td>29.987855</td>\n",
       "      <td>30.629808</td>\n",
       "      <td>25.889837</td>\n",
       "      <td>32.327121</td>\n",
       "      <td>98.597550</td>\n",
       "      <td>30.180441</td>\n",
       "    </tr>\n",
       "    <tr>\n",
       "      <th>2020-03-25 17:42:36</th>\n",
       "      <td>30.972111</td>\n",
       "      <td>30.818916</td>\n",
       "      <td>31.387883</td>\n",
       "      <td>26.719514</td>\n",
       "      <td>31.520389</td>\n",
       "      <td>98.694215</td>\n",
       "      <td>30.989606</td>\n",
       "    </tr>\n",
       "    <tr>\n",
       "      <th>2020-03-26 08:16:12</th>\n",
       "      <td>29.068895</td>\n",
       "      <td>28.980893</td>\n",
       "      <td>29.566789</td>\n",
       "      <td>24.676091</td>\n",
       "      <td>31.579312</td>\n",
       "      <td>98.716360</td>\n",
       "      <td>29.156662</td>\n",
       "    </tr>\n",
       "    <tr>\n",
       "      <th>2020-03-26 22:49:48</th>\n",
       "      <td>29.064963</td>\n",
       "      <td>28.907227</td>\n",
       "      <td>29.345770</td>\n",
       "      <td>25.468032</td>\n",
       "      <td>26.124574</td>\n",
       "      <td>98.566275</td>\n",
       "      <td>29.038790</td>\n",
       "    </tr>\n",
       "    <tr>\n",
       "      <th>...</th>\n",
       "      <td>...</td>\n",
       "      <td>...</td>\n",
       "      <td>...</td>\n",
       "      <td>...</td>\n",
       "      <td>...</td>\n",
       "      <td>...</td>\n",
       "      <td>...</td>\n",
       "    </tr>\n",
       "    <tr>\n",
       "      <th>2021-03-03 15:40:48</th>\n",
       "      <td>35.211882</td>\n",
       "      <td>26.802552</td>\n",
       "      <td>36.320640</td>\n",
       "      <td>31.212103</td>\n",
       "      <td>40.191480</td>\n",
       "      <td>51.880774</td>\n",
       "      <td>29.657978</td>\n",
       "    </tr>\n",
       "    <tr>\n",
       "      <th>2021-03-10 22:24:00</th>\n",
       "      <td>30.137160</td>\n",
       "      <td>29.747254</td>\n",
       "      <td>30.103539</td>\n",
       "      <td>24.750272</td>\n",
       "      <td>24.393528</td>\n",
       "      <td>97.099403</td>\n",
       "      <td>29.854140</td>\n",
       "    </tr>\n",
       "    <tr>\n",
       "      <th>2021-03-11 12:57:36</th>\n",
       "      <td>33.862422</td>\n",
       "      <td>33.957309</td>\n",
       "      <td>35.278385</td>\n",
       "      <td>29.985434</td>\n",
       "      <td>43.144813</td>\n",
       "      <td>98.914466</td>\n",
       "      <td>34.353632</td>\n",
       "    </tr>\n",
       "    <tr>\n",
       "      <th>2021-03-11 20:14:24</th>\n",
       "      <td>32.756342</td>\n",
       "      <td>32.463687</td>\n",
       "      <td>32.934519</td>\n",
       "      <td>28.283784</td>\n",
       "      <td>28.529739</td>\n",
       "      <td>97.756632</td>\n",
       "      <td>32.604937</td>\n",
       "    </tr>\n",
       "    <tr>\n",
       "      <th>2021-03-14 13:45:36</th>\n",
       "      <td>32.526940</td>\n",
       "      <td>32.560058</td>\n",
       "      <td>33.740868</td>\n",
       "      <td>29.473757</td>\n",
       "      <td>41.464780</td>\n",
       "      <td>99.229389</td>\n",
       "      <td>32.914301</td>\n",
       "    </tr>\n",
       "  </tbody>\n",
       "</table>\n",
       "<p>83 rows × 7 columns</p>\n",
       "</div>"
      ],
      "text/plain": [
       "                           TBS        TBH         TG         TA    T_TECHO  \\\n",
       "FECHA                                                                        \n",
       "2020-03-24 19:52:12  31.283498  29.285349  31.721121  29.010373  32.209386   \n",
       "2020-03-25 10:25:48  30.142319  29.987855  30.629808  25.889837  32.327121   \n",
       "2020-03-25 17:42:36  30.972111  30.818916  31.387883  26.719514  31.520389   \n",
       "2020-03-26 08:16:12  29.068895  28.980893  29.566789  24.676091  31.579312   \n",
       "2020-03-26 22:49:48  29.064963  28.907227  29.345770  25.468032  26.124574   \n",
       "...                        ...        ...        ...        ...        ...   \n",
       "2021-03-03 15:40:48  35.211882  26.802552  36.320640  31.212103  40.191480   \n",
       "2021-03-10 22:24:00  30.137160  29.747254  30.103539  24.750272  24.393528   \n",
       "2021-03-11 12:57:36  33.862422  33.957309  35.278385  29.985434  43.144813   \n",
       "2021-03-11 20:14:24  32.756342  32.463687  32.934519  28.283784  28.529739   \n",
       "2021-03-14 13:45:36  32.526940  32.560058  33.740868  29.473757  41.464780   \n",
       "\n",
       "                            HR       TGBH  \n",
       "FECHA                                      \n",
       "2020-03-24 19:52:12  88.174213  30.016081  \n",
       "2020-03-25 10:25:48  98.597550  30.180441  \n",
       "2020-03-25 17:42:36  98.694215  30.989606  \n",
       "2020-03-26 08:16:12  98.716360  29.156662  \n",
       "2020-03-26 22:49:48  98.566275  29.038790  \n",
       "...                        ...        ...  \n",
       "2021-03-03 15:40:48  51.880774  29.657978  \n",
       "2021-03-10 22:24:00  97.099403  29.854140  \n",
       "2021-03-11 12:57:36  98.914466  34.353632  \n",
       "2021-03-11 20:14:24  97.756632  32.604937  \n",
       "2021-03-14 13:45:36  99.229389  32.914301  \n",
       "\n",
       "[83 rows x 7 columns]"
      ]
     },
     "execution_count": 15,
     "metadata": {},
     "output_type": "execute_result"
    }
   ],
   "source": [
    "fdata.loc[fdata['TGBH'] >= 29]"
   ]
  },
  {
   "cell_type": "code",
   "execution_count": null,
   "metadata": {},
   "outputs": [],
   "source": []
  }
 ],
 "metadata": {
  "kernelspec": {
   "display_name": "Python 3",
   "language": "python",
   "name": "python3"
  },
  "language_info": {
   "codemirror_mode": {
    "name": "ipython",
    "version": 3
   },
   "file_extension": ".py",
   "mimetype": "text/x-python",
   "name": "python",
   "nbconvert_exporter": "python",
   "pygments_lexer": "ipython3",
   "version": "3.8.5"
  }
 },
 "nbformat": 4,
 "nbformat_minor": 4
}
